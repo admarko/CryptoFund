{
 "cells": [
  {
   "cell_type": "code",
   "execution_count": null,
   "metadata": {
    "collapsed": true
   },
   "outputs": [],
   "source": [
    "import krakenex\n",
    "import numpy as np\n",
    "\n",
    "#need to generate key for security, store it in folder and call it 'kraken.key'"
   ]
  },
  {
   "cell_type": "code",
   "execution_count": null,
   "metadata": {
    "collapsed": true
   },
   "outputs": [],
   "source": [
    "# Buy assets with unweighted index\n",
    "\n",
    "def buy_assets(dollar_amount, currency_list):\n",
    "    \n",
    "    k = krakenex.API()\n",
    "    k.load_key('kraken.key')\n",
    "    \n",
    "    n_currencies = np.size(currency_list)\n",
    "    amt_per_currency = dollar_amount/n_currencies\n",
    "    for currency in currency_list:\n",
    "        \n",
    "        k.query_private('AddOrder', {'pair': currency,\n",
    "                                 'type': 'buy',\n",
    "                                 'ordertype': 'market',\n",
    "                                 'price': amt_per_currency})\n"
   ]
  },
  {
   "cell_type": "code",
   "execution_count": null,
   "metadata": {
    "collapsed": true
   },
   "outputs": [],
   "source": [
    "# Periodically query to construct a price history\n",
    "\n",
    "\n",
    "def construct_price_history(date):\n",
    "    # date is a string that gives the date of the query to sort the data for further analysis\n",
    "    \n",
    "    k = krakenex.API()\n",
    "    k.load_key('kraken.key')\n",
    "    Data = k.query_public('AssetPairs')\n",
    "    np.savetxt(Data,'data_query'+date+'.csv', delimiter=',')\n",
    "    "
   ]
  }
 ],
 "metadata": {
  "kernelspec": {
   "display_name": "Python 3",
   "language": "python",
   "name": "python3"
  },
  "language_info": {
   "codemirror_mode": {
    "name": "ipython",
    "version": 3
   },
   "file_extension": ".py",
   "mimetype": "text/x-python",
   "name": "python",
   "nbconvert_exporter": "python",
   "pygments_lexer": "ipython3",
   "version": "3.5.1"
  }
 },
 "nbformat": 4,
 "nbformat_minor": 2
}
